{
 "cells": [
  {
   "cell_type": "markdown",
   "metadata": {},
   "source": [
    "# MGT-448 Assignment 1"
   ]
  },
  {
   "cell_type": "code",
   "execution_count": 1,
   "metadata": {},
   "outputs": [],
   "source": [
    "import torch\n",
    "import numpy as np\n",
    "import matplotlib.pyplot as plt\n",
    "%matplotlib inline\n",
    "\n",
    "dtype = torch.double\n",
    "device = torch.device(\"cuda:0\")\n",
    "np.set_printoptions(precision=3)\n",
    "\n",
    "tolerance = 1e-5\n",
    "def rel_error(x, y):\n",
    "    return torch.max(torch.abs(x - y) / (torch.maximum(1e-8, torch.abs(x) + torch.abs(y))))\n",
    "\n",
    "def sigmoid(x):\n",
    "    return 1/(1+torch.exp(-x))\n",
    "\n",
    "iteration = 20\n",
    "reg = 1e-4"
   ]
  },
  {
   "cell_type": "code",
   "execution_count": 2,
   "metadata": {},
   "outputs": [
    {
     "name": "stdout",
     "output_type": "stream",
     "text": [
      "torch.Size([198, 28])\n",
      "torch.Size([325, 28])\n"
     ]
    }
   ],
   "source": [
    "# load data\n",
    "import pandas as pd\n",
    "data_train = np.loadtxt(open('./logisticRegressionData/training.csv', \"r\"), delimiter=\",\", skiprows=0)\n",
    "data_train = torch.from_numpy(data_train.astype(np.float64)).to(device)\n",
    "print(data_train.size())\n",
    "data_test = np.loadtxt(open('./logisticRegressionData/testing.csv', \"r\"), delimiter=\",\", skiprows=0)\n",
    "data_test = torch.from_numpy(data_test.astype(np.float64)).to(device)\n",
    "print(data_test.size())"
   ]
  },
  {
   "cell_type": "code",
   "execution_count": 3,
   "metadata": {},
   "outputs": [],
   "source": [
    "x_train = data_train[:, 1:]\n",
    "y_train = data_train[:, 0].view(data_train.size(0), 1)\n",
    "x_test = data_test[:, 1:]\n",
    "y_test = data_test[:, 0].view(data_test.size(0), 1)"
   ]
  },
  {
   "cell_type": "markdown",
   "metadata": {},
   "source": [
    "## Binomial case"
   ]
  },
  {
   "cell_type": "markdown",
   "metadata": {},
   "source": [
    "### 1\n",
    "(a) In logistic regression, the classifier maps the vector-form input to classes. In binomial LR, if we represent the classes with binary numbers 0 or 1, and denote the ith input data as $x_i$ and output class as $y_i$, one typical example is $y_i = \\text{sigmoid} (\\theta^T x_i)$ where $x_i\\in\\mathbb{R}^d, \\theta\\in\\mathbb{R}^{d}, y_i\\in\\mathbb{R}$. \n",
    "\n",
    "(b) Write $h_{\\theta}(x_i) = \\text{sigmoid}(\\theta x_i)$. The likelihood function is \n",
    "$$L(\\theta) = \\Pi_{i=1}^n(h_{\\theta}(x_i))^{y_i}(1-h_{\\theta}(x_i))^{1-y_i}$$ \n",
    "We mainly use the log-likelihood function, which is \n",
    "$$l(\\theta) = \\Sigma_{i=1}^n y_i\\ln(h_{\\theta}(x_i))+(1-y_i)\\ln(1-h_{\\theta}(x_i))$$ \n",
    "Suppose we have $n$ input and output pairs. Combine all inputs to a single matrix $X$, each row of which is one input vector, then $X\\in\\mathbb{R}^{n\\times d}$. Combine all output data as vector $y$. Then the mapping becomes $y = \\text{sigmoid} (X \\theta)$. Then the vectorized log-likelihood function is \n",
    "$$l(\\theta) = y^T\\ln(h_{\\theta}(X))+(1-y)^T\\ln(1-h_{\\theta}(X))$$\n",
    "The cost function would be $J(\\theta) = - \\frac{1}{n} l(\\theta) + \\frac{1}{2}\\lambda\\left\\|\\theta\\right\\|^2$. For the case of without regularization, the gradient of the loss function is \n",
    "$$\\frac{\\partial J(\\theta)}{\\partial \\theta} = \\frac{1}{n}X^T (h_{\\theta}(X)-y)$$ and its hessian is \n",
    "$$H(\\theta) = \\frac{1}{n}X^T \\text{diag} \\left\\{(1-h_{\\theta}(X))h_{\\theta}(X)\\right\\}X$$\n",
    "By Newton's Method, the iteration for $\\theta$ is \n",
    "$$\\theta = \\theta - (H(\\theta))^{-1}\\frac{\\partial J(\\theta)}{\\partial \\theta}$$\n",
    "Our algorithm starts with initializing $\\theta$ as zero vector and stops when $J(\\theta)$ is smaller than a predifined value.\n",
    "\n",
    "(c) Classification error is given by $1-\\frac{1}{n} (y \\text{ AND } (\\text{sigmoid}(\\theta X)>0.5))$.\n",
    "\n",
    "(d)  1) the dependent variables should be binary. 2) the observations should be mutually independent and the inputs/independent variable are not highly correlated. 3) the dependent and independent variables are linearly correlated. 4) relatively large sample size.\n",
    "\n",
    "## 2\n",
    "In the update of $\\theta$ in Newton's Method, we use \n",
    "$$\\theta = \\theta - (H(\\theta))^{-1}\\frac{\\partial J(\\theta)}{\\partial \\theta} + \\lambda \\theta$$"
   ]
  },
  {
   "cell_type": "code",
   "execution_count": 4,
   "metadata": {},
   "outputs": [],
   "source": [
    "N, D_in, D_out = x_train.size(0), x_train.size(1), 1\n",
    "\n",
    "y_train_binary = torch.fmod(y_train, 2)\n",
    "y_test_binary = torch.fmod(y_test, 2)\n",
    "# print(y_train_binary)\n",
    "# theta_2 = torch.randn(1, D_out, device=device, dtype=dtype)\n",
    "\n",
    "def log_likelyhood_bin_cal(hx, y):\n",
    "    return torch.t(y).mm(torch.log(hx)) + torch.t(1-y).mm(torch.log(1-hx))\n",
    "\n",
    "def accuracy_bin_cal(x, theta, y):\n",
    "    # check accuracy for test data\n",
    "    y_cal = x.mm(theta)\n",
    "    sigmoid_y = sigmoid(y_cal) > 0.5\n",
    "    return torch.mean(y * sigmoid_y.int())\n",
    "\n",
    "def plot_loss_accuracy_bin(loss_array, accuracy_array):\n",
    "    plt.rcParams['figure.figsize'] = (12.0, 4.0)\n",
    "    pic1 = plt.subplot(1, 2, 1)\n",
    "    pic1.plot(loss_array)\n",
    "    pic1.set_ylabel(\"Loss\")\n",
    "    pic1.set_xlabel(\"Iteration\")\n",
    "    pic2 = plt.subplot(1, 2, 2)\n",
    "    pic2.plot(accuracy_array)\n",
    "    pic2.set_ylabel(\"Accuracy on training data\")\n",
    "    pic2.set_xlabel(\"Iteration\")"
   ]
  },
  {
   "cell_type": "markdown",
   "metadata": {},
   "source": [
    "### Newtons's Method"
   ]
  },
  {
   "cell_type": "code",
   "execution_count": 5,
   "metadata": {},
   "outputs": [
    {
     "name": "stdout",
     "output_type": "stream",
     "text": [
      "Parameters theta_1(Transpose) is:\n",
      " [[ 1.057e+00  2.273e+00 -2.084e+00  3.072e-03 -7.010e+00  6.582e+00\n",
      "  -7.115e-01  9.534e-01 -3.766e+00  1.439e+00  1.329e+00 -1.598e+00\n",
      "   4.141e-01 -6.146e+00  6.085e+00 -6.501e-01  6.027e-01 -1.540e+00\n",
      "   1.144e+00  2.042e-01 -6.010e-01  1.599e-01 -3.249e+00  3.820e+00\n",
      "  -1.089e+00 -6.903e-01  6.860e-01]]\n"
     ]
    },
    {
     "data": {
      "image/png": "[encoded data removed]",
      "text/plain": [
       "<Figure size 864x288 with 2 Axes>"
      ]
     },
     "metadata": {
      "needs_background": "light"
     },
     "output_type": "display_data"
    }
   ],
   "source": [
    "i, loss, step_size = 0, 1.0, 1.0\n",
    "theta_1 = torch.zeros(D_in, D_out, device=device, dtype=dtype)\n",
    "loss_array = []\n",
    "accuracy_array = []\n",
    "while i < iteration and loss > tolerance:\n",
    "    i = i+1\n",
    "    # forward pass\n",
    "    scores = x_train.mm(theta_1)\n",
    "    # computing loss\n",
    "    h_1 = sigmoid(scores)\n",
    "    h_0 = 1 - h_1\n",
    "    log_likelyhood = log_likelyhood_bin_cal(h_1, y_train_binary)\n",
    "    loss = -log_likelyhood/N + 0.5*reg*torch.sum(theta_1*theta_1)\n",
    "    # print(\"Loss is: \", loss.data.cpu().numpy())\n",
    "    loss_array.append(torch.flatten(loss * (loss > tolerance)).data.cpu().numpy())\n",
    "    \n",
    "    # accuracy on training data\n",
    "    accuracy = accuracy_bin_cal(x_train, theta_1, y_train_binary)\n",
    "    accuracy_array.append(torch.flatten(accuracy).data.cpu().numpy())\n",
    "    \n",
    "    # optimization\n",
    "    grad_loss = torch.t(x_train).mm(h_1-y_train_binary)\n",
    "    # print(grad_loss.size())\n",
    "    temp_diag = torch.diag(torch.flatten(h_0*h_1 + tolerance))\n",
    "    # print(temp_diag.size(), x_train.size())\n",
    "    hessian_loss = torch.t(x_train).mm(temp_diag).mm(x_train)\n",
    "    dtheta_1 = torch.inverse(hessian_loss).mm(grad_loss) \n",
    "    theta_1 -= step_size * dtheta_1 + reg*theta_1\n",
    "\n",
    "plot_loss_accuracy_bin(loss_array, accuracy_array)\n",
    "print(\"Parameters theta_1(Transpose) is:\\n\", theta_1.data.cpu().numpy().T)"
   ]
  },
  {
   "cell_type": "code",
   "execution_count": 6,
   "metadata": {},
   "outputs": [
    {
     "name": "stdout",
     "output_type": "stream",
     "text": [
      "Accuracy is  0.6861538467928767\n"
     ]
    }
   ],
   "source": [
    "# check accuracy for test data\n",
    "accuracy = accuracy_bin_cal(x_test, theta_1, y_test_binary)\n",
    "print(\"Accuracy is \", accuracy.item())"
   ]
  },
  {
   "cell_type": "markdown",
   "metadata": {},
   "source": [
    "### Backtracking line search for Newton's Method in binomial case"
   ]
  },
  {
   "cell_type": "code",
   "execution_count": 7,
   "metadata": {},
   "outputs": [
    {
     "name": "stdout",
     "output_type": "stream",
     "text": [
      "Loss is:  [[0.693]]\n",
      "Parameters theta_1(Transpose) is:\n",
      " [[-0.122  0.066  0.03  -0.022 -0.517  0.382  0.176  0.436 -0.433 -0.043\n",
      "  -0.045  0.098 -0.018 -0.486  0.445  0.176  0.33  -0.267 -0.029 -0.013\n",
      "   0.108  0.008 -0.189  0.185  0.063 -0.332  0.302]]\n"
     ]
    }
   ],
   "source": [
    "i, loss, step_size = 0, 1.0, 1.0\n",
    "theta_1 = torch.zeros(D_in, D_out, device=device, dtype=dtype)\n",
    "\n",
    "alpha, rho, c = 1.0, 0.9, 0.5\n",
    "criterion_v = torch.ones(1, 1, device=device, dtype=dtype)\n",
    "\n",
    "while criterion_v and loss > tolerance and i < iteration:\n",
    "    i = i+1\n",
    "    # forward pass\n",
    "    scores = x_train.mm(theta_1)\n",
    "    # computing loss\n",
    "    h_1 = sigmoid(scores)\n",
    "    h_0 = 1 - h_1\n",
    "    log_likelyhood = log_likelyhood_bin_cal(h_1, y_train_binary)\n",
    "    loss = -log_likelyhood/N + 0.5*reg*torch.sum(theta_1*theta_1)\n",
    "    print(\"Loss is: \", loss.data.cpu().numpy())\n",
    "    \n",
    "    # optimization\n",
    "    grad_loss = torch.t(x_train).mm(h_1-y_train_binary)\n",
    "    # print(grad_loss.size())\n",
    "    temp_diag = torch.diag(torch.flatten(h_0*h_1 + tolerance))\n",
    "    # print(temp_diag.size(), x_train.size())\n",
    "    hessian_loss = torch.t(x_train).mm(temp_diag).mm(x_train)\n",
    "    dtheta_1 = torch.inverse(hessian_loss).mm(grad_loss) \n",
    "    theta_1 -= step_size * dtheta_1 + reg*theta_1\n",
    "    \n",
    "    # backtracking linear search related\n",
    "    pk = -dtheta_1\n",
    "    alpha = rho*alpha\n",
    "    criterion = (-log_likelyhood_bin_cal(sigmoid(x_train.mm(theta_1+alpha*pk)), y_train_binary)/N \\\n",
    "                + log_likelyhood_bin_cal(h_1, y_train_binary)/N \\\n",
    "                - c*alpha*torch.t(grad_loss/N).mm(pk)) > 0\n",
    "    criterion_v = torch.sum(criterion.int())\n",
    "    # print(\"Criterion function value is: \", criterion)\n",
    "\n",
    "print(\"Parameters theta_1(Transpose) is:\\n\", theta_1.data.cpu().numpy().T)"
   ]
  },
  {
   "cell_type": "code",
   "execution_count": 8,
   "metadata": {},
   "outputs": [
    {
     "name": "stdout",
     "output_type": "stream",
     "text": [
      "Accuracy is  0.6769230775535107\n"
     ]
    }
   ],
   "source": [
    "# check accuracy for test data\n",
    "accuracy = accuracy_bin_cal(x_test, theta_1, y_test_binary)\n",
    "print(\"Accuracy is \", accuracy.item())"
   ]
  },
  {
   "cell_type": "markdown",
   "metadata": {},
   "source": [
    "### Gradient descent"
   ]
  },
  {
   "cell_type": "code",
   "execution_count": 9,
   "metadata": {},
   "outputs": [
    {
     "name": "stdout",
     "output_type": "stream",
     "text": [
      "Parameters theta_1(transpose) is:\n",
      " [[-9.877e-04 -2.472e-04 -1.425e-04 -2.264e-05  2.213e-04  6.550e-04\n",
      "   4.905e-04 -5.186e-04 -4.256e-04  2.802e-03  1.064e-03  1.689e-03\n",
      "   1.622e-03  1.870e-04  3.200e-04  7.574e-04  1.000e-03  1.314e-03\n",
      "  -3.461e-04 -3.832e-05 -9.231e-05 -3.518e-04 -2.020e-05 -8.973e-05\n",
      "  -3.640e-04 -6.152e-05 -9.547e-05]]\n"
     ]
    },
    {
     "data": {
      "image/png": "[encoded data removed]",
      "text/plain": [
       "<Figure size 864x288 with 2 Axes>"
      ]
     },
     "metadata": {
      "needs_background": "light"
     },
     "output_type": "display_data"
    }
   ],
   "source": [
    "i, loss, step_size = 0, 1.0, 5e-5\n",
    "decay_rate = 0.9\n",
    "theta_1 = torch.zeros(D_in, D_out, device=device, dtype=dtype)\n",
    "loss_array, accuracy_array = [], []\n",
    "while i < 50 and (loss > tolerance or torch.isinf(loss)):\n",
    "    i = i+1\n",
    "    # forward pass\n",
    "    scores = x_train.mm(theta_1)\n",
    "    # computing loss\n",
    "    h_1 =sigmoid(scores)\n",
    "    h_0 = 1 - h_1\n",
    "    log_likelyhood = log_likelyhood_bin_cal(h_1, y_train_binary)\n",
    "    loss = -log_likelyhood/N + 0.5*reg*torch.sum(theta_1*theta_1)\n",
    "    loss_array.append(torch.flatten(loss * (loss > tolerance)).data.cpu().numpy())\n",
    "    \n",
    "    # accuracy on training data\n",
    "    accuracy = accuracy_bin_cal(x_train, theta_1, y_train_binary)\n",
    "    accuracy_array.append(torch.flatten(accuracy).data.cpu().numpy())\n",
    "    \n",
    "    # optimization\n",
    "    grad_loss = torch.t(x_train).mm(h_1-y_train_binary)\n",
    "    dtheta_1 = grad_loss/N \n",
    "    theta_1 -= step_size * dtheta_1 + reg*theta_1\n",
    "    step_size = step_size * decay_rate\n",
    "    \n",
    "plot_loss_accuracy_bin(loss_array, accuracy_array)\n",
    "print(\"Parameters theta_1(transpose) is:\\n\", theta_1.data.cpu().numpy().T)"
   ]
  },
  {
   "cell_type": "code",
   "execution_count": 10,
   "metadata": {},
   "outputs": [
    {
     "name": "stdout",
     "output_type": "stream",
     "text": [
      "Accuracy is  0.7353846160694957\n"
     ]
    }
   ],
   "source": [
    "# check accuracy for test data\n",
    "accuracy = accuracy_bin_cal(x_test, theta_1, y_test_binary)\n",
    "print(\"Accuracy is \", accuracy.item())"
   ]
  },
  {
   "cell_type": "markdown",
   "metadata": {},
   "source": [
    "### Stochastic gradient descent"
   ]
  },
  {
   "cell_type": "code",
   "execution_count": 11,
   "metadata": {},
   "outputs": [
    {
     "name": "stdout",
     "output_type": "stream",
     "text": [
      "Accuracy for batch size of  1  is  0.0 \n",
      "\n",
      "Accuracy for batch size of  16  is  0.6769230775535107 \n",
      "\n",
      "Accuracy for batch size of  32  is  0.7015384621918201 \n",
      "\n",
      "Accuracy for batch size of  198  is  0.7169230775907636 \n",
      "\n"
     ]
    }
   ],
   "source": [
    "decay_rate = 0.9\n",
    "step_sizes = [5e-4, 1e-3, 8e-4, 1e-4]\n",
    "batch_sizes = [1, 16, 32, N]\n",
    "iterations = [100, 100, 100, 100]\n",
    "theta_s = torch.zeros(D_in, D_out, len(batch_sizes), device=device, dtype=dtype)\n",
    "\n",
    "y_test_binary = torch.fmod(y_test, 2)\n",
    "\n",
    "for k in range(len(batch_sizes)):\n",
    "    batch_size = batch_sizes[k]\n",
    "    step_size = step_sizes[k]\n",
    "    iteration = iterations[k]\n",
    "    loss = 1.0\n",
    "    theta_1 = torch.zeros(D_in, D_out, device=device, dtype=dtype)\n",
    "    perm_seq = torch.randperm(N)\n",
    "    x_train_perm, y_train_binary_perm = x_train[perm_seq, :], y_train_binary[perm_seq, :]\n",
    "    \n",
    "    for j in range(int(np.ceil(N/batch_size))):\n",
    "        # print(\"j is \", j)\n",
    "        start_ind = batch_size*j\n",
    "        end_ind = np.minimum(N, start_ind+batch_size)\n",
    "        # print(\"end_ind is \",  end_ind)\n",
    "        x_batch = x_train_perm[start_ind:end_ind]\n",
    "        y_batch = y_train_binary_perm[start_ind:end_ind]\n",
    "        N_batch = end_ind - start_ind\n",
    "        \n",
    "        i = 0\n",
    "        while i < iteration:\n",
    "            i = i+1\n",
    "            step_size = step_size * decay_rate\n",
    "            # forward pass\n",
    "            scores = x_batch.mm(theta_1)\n",
    "            # computing loss\n",
    "            h_1 = sigmoid(scores)\n",
    "            h_0 = 1 - h_1\n",
    "            log_likelyhood = log_likelyhood_bin_cal(h_1, y_batch)\n",
    "            loss = -log_likelyhood/N_batch + 0.5*reg*torch.sum(theta_1*theta_1)\n",
    "            # print(\"Loss for batch size of \", batch_size, \" is: \", loss.item())\n",
    "            # optimization\n",
    "            grad_loss = torch.t(x_batch).mm(h_1-y_batch)\n",
    "            dtheta_1 = grad_loss/N_batch \n",
    "            theta_1 -= step_size * dtheta_1 + reg*theta_1\n",
    "    \n",
    "    theta_s[:, :, k] = theta_1\n",
    "    # print(\"\\nParameters theta_1 is:\\n\", theta_1.data.cpu().numpy())\n",
    "    accuracy = accuracy_bin_cal(x_test, theta_1, y_test_binary)\n",
    "    print(\"Accuracy for batch size of \", batch_size, \" is \", accuracy.item(), \"\\n\")\n"
   ]
  },
  {
   "cell_type": "markdown",
   "metadata": {},
   "source": [
    "## Multinomial case"
   ]
  },
  {
   "cell_type": "code",
   "execution_count": 12,
   "metadata": {},
   "outputs": [],
   "source": [
    "num_classes = 4\n",
    "N, D_in, D_out = x_train.size(0), x_train.size(1), num_classes\n",
    "\n",
    "y_train_expand = torch.zeros(y_train.size(0), num_classes, device=device, dtype=dtype)\n",
    "\n",
    "y_test_expand = torch.zeros(y_test.size(0), num_classes, device=device, dtype=dtype)\n",
    "for i in range(num_classes):\n",
    "    temp = y_test == i+1\n",
    "    y_test_expand[:, i] = torch.flatten(temp.int())\n",
    "    \n",
    "# print(y_train_expand.size())\n",
    "for i in range(num_classes):\n",
    "    temp = y_train == i+1\n",
    "    y_train_expand[:, i] = torch.flatten(temp.int())\n",
    "\n",
    "def log_likelyhood_mul_cal(hx, y):\n",
    "    temp = torch.t(y).mm(torch.log(hx)) + torch.t(1-y).mm(torch.log(1-hx))\n",
    "    return torch.diag(temp).view(num_classes, 1)\n",
    "\n",
    "def accuracy_mul_cal(x, theta, y):\n",
    "    y_cal = x.mm(theta)\n",
    "    sigmoid_y = sigmoid(y_cal) > 0.5\n",
    "    # print(sigmoid_y)\n",
    "    accuracy = torch.true_divide(torch.sum(torch.abs(y * sigmoid_y.int())), y.size(0))\n",
    "    return accuracy\n",
    "    "
   ]
  },
  {
   "cell_type": "markdown",
   "metadata": {},
   "source": [
    "### Newton's Method"
   ]
  },
  {
   "cell_type": "code",
   "execution_count": 13,
   "metadata": {},
   "outputs": [
    {
     "name": "stdout",
     "output_type": "stream",
     "text": [
      "Parameters theta_2 is:\n",
      " [[ 1.147 -0.278 -0.757 -0.69 ]\n",
      " [-1.96  -2.543 -1.328 -0.947]\n",
      " [-1.082  1.433  0.903  1.148]\n",
      " [-0.116 -0.197 -0.243 -0.778]\n",
      " [-0.708  6.223  0.516 -7.925]\n",
      " [ 0.803 -2.69   3.032  1.651]\n",
      " [-0.672 -0.155  0.836  1.806]\n",
      " [-0.064 -1.635  7.541  1.308]\n",
      " [ 1.176  2.103 -7.393 -0.224]\n",
      " [ 0.639 -0.745 -0.016 -0.417]\n",
      " [-1.648 -1.006 -1.494 -0.561]\n",
      " [ 0.364  0.268  0.598  0.818]\n",
      " [ 0.601 -0.462 -0.251 -0.971]\n",
      " [-1.464  5.625  0.135 -8.616]\n",
      " [ 0.789 -2.332  3.184  1.99 ]\n",
      " [-0.42  -0.389  0.519  1.818]\n",
      " [ 0.213 -0.98   6.359  1.529]\n",
      " [ 1.388  1.982 -4.876 -1.632]\n",
      " [ 0.31  -0.263 -0.517  0.505]\n",
      " [-1.147 -0.117 -0.397  2.351]\n",
      " [-0.081 -0.032  2.351 -2.2  ]\n",
      " [ 0.213 -0.219 -0.217 -1.291]\n",
      " [-1.895  3.09  -1.066 -4.717]\n",
      " [ 2.522 -1.214  1.29   3.31 ]\n",
      " [-0.485 -0.239  0.83   1.353]\n",
      " [-0.958 -0.364 -2.136  2.833]\n",
      " [ 2.222  0.419  0.747 -2.961]]\n"
     ]
    },
    {
     "data": {
      "image/png": "[encoded data removed]",
      "text/plain": [
       "<Figure size 864x288 with 2 Axes>"
      ]
     },
     "metadata": {
      "needs_background": "light"
     },
     "output_type": "display_data"
    }
   ],
   "source": [
    "i, step_size = 0, 1.0\n",
    "loss = torch.ones(num_classes, device=device, dtype=dtype)\n",
    "theta_2 = torch.zeros(D_in, D_out, device=device, dtype=dtype)\n",
    "loss_array = []\n",
    "accuracy_array = []\n",
    "\n",
    "while i < iteration and torch.max(loss) > tolerance:\n",
    "    i = i+1\n",
    "    # forward pass\n",
    "    scores = x_train.mm(theta_2)\n",
    "    # computing loss\n",
    "    h_1 = 1 / (1+torch.exp(-scores))\n",
    "    h_0 = 1 - h_1\n",
    "    log_likelyhood = log_likelyhood_mul_cal(h_1, y_train_expand)\n",
    "    loss = -log_likelyhood/N + 0.5*reg*torch.diag(torch.t(theta_2).mm(theta_2)).view(num_classes, 1)\n",
    "    # print(\"Loss is \", loss.data.cpu().numpy().T)\n",
    "    \n",
    "    loss_array.append(torch.sum(torch.flatten(loss * (loss > tolerance))).data.cpu().numpy())\n",
    "    # accuracy on training data\n",
    "    accuracy = accuracy_mul_cal(x_train, theta_2, y_train_expand)\n",
    "    accuracy_array.append(torch.flatten(accuracy).data.cpu().numpy())\n",
    "    \n",
    "    # optimization\n",
    "    grad_loss = torch.t(x_train).mm(h_1-y_train_expand)\n",
    "    hessian_loss = torch.zeros(D_in, D_in, num_classes, device=device, dtype=dtype)\n",
    "    dtheta_2 = torch.zeros(theta_2.size(), device=device, dtype=dtype)\n",
    "    for i in range(num_classes):\n",
    "        temp_diag = torch.diag(torch.flatten(h_0[:, i]*h_1[:, i]+tolerance))\n",
    "        hessian_loss[:, :, i] = torch.t(x_train).mm(temp_diag).mm(x_train)\n",
    "        temp = torch.inverse(hessian_loss[:, :, i]).mm(grad_loss[:, i].view(D_in, 1))\n",
    "        dtheta_2[:, i] = torch.flatten(torch.inverse(hessian_loss[:, :, i]).mm(grad_loss[:, i].view(D_in, 1)))\n",
    "    theta_2 -= step_size * dtheta_2 + reg*theta_2    \n",
    "    \n",
    "print(\"Parameters theta_2 is:\\n\", theta_2.data.cpu().numpy())\n",
    "plot_loss_accuracy_bin(loss_array, accuracy_array)"
   ]
  },
  {
   "cell_type": "code",
   "execution_count": 14,
   "metadata": {},
   "outputs": [
    {
     "name": "stdout",
     "output_type": "stream",
     "text": [
      "Accuracy is  0.7876923076923077\n"
     ]
    }
   ],
   "source": [
    "# check accuracy for test data\n",
    "accuracy = accuracy_mul_cal(x_test, theta_2, y_test_expand)\n",
    "print(\"Accuracy is \", accuracy.item())"
   ]
  },
  {
   "cell_type": "markdown",
   "metadata": {},
   "source": [
    "### Backtrack line search for Newton's Method in multinomial case"
   ]
  },
  {
   "cell_type": "code",
   "execution_count": 15,
   "metadata": {},
   "outputs": [
    {
     "name": "stdout",
     "output_type": "stream",
     "text": [
      "Loss is  [[0.693 0.693 0.693 0.693]]\n",
      "Criterion function value is:  0\n",
      "\n",
      "Parameters theta_2 is:\n",
      " [[-0.055  0.114 -0.073  0.002]\n",
      " [-0.029 -0.027  0.096 -0.038]\n",
      " [ 0.13  -0.071 -0.101  0.04 ]\n",
      " [ 0.101 -0.041 -0.125  0.061]\n",
      " [ 0.266  0.357 -0.824  0.121]\n",
      " [-0.249 -0.092  0.658 -0.263]\n",
      " [-0.012 -0.115  0.194 -0.053]\n",
      " [ 0.057 -0.289  0.441 -0.086]\n",
      " [-0.069  0.236 -0.439  0.122]\n",
      " [-0.043  0.025 -0.006  0.012]\n",
      " [-0.169  0.168  0.125 -0.123]\n",
      " [ 0.251 -0.201 -0.154  0.102]\n",
      " [ 0.093 -0.028 -0.113  0.044]\n",
      " [ 0.261  0.365 -0.786  0.081]\n",
      " [-0.119 -0.172  0.589 -0.247]\n",
      " [ 0.073 -0.148  0.111 -0.021]\n",
      " [ 0.192 -0.278  0.2    0.01 ]\n",
      " [-0.218  0.253 -0.125 -0.062]\n",
      " [-0.047  0.012  0.016  0.016]\n",
      " [-0.032  0.035  0.027 -0.015]\n",
      " [ 0.075 -0.071  0.027 -0.043]\n",
      " [ 0.052 -0.016 -0.046  0.007]\n",
      " [ 0.038  0.264 -0.238 -0.085]\n",
      " [ 0.067 -0.193  0.128  0.019]\n",
      " [ 0.017 -0.051  0.049 -0.01 ]\n",
      " [-0.433  0.219  0.114  0.125]\n",
      " [ 0.398 -0.21  -0.118 -0.115]]\n"
     ]
    }
   ],
   "source": [
    "i, step_size = 0, 1.0\n",
    "loss = torch.ones(num_classes, device=device, dtype=dtype)\n",
    "theta_2 = torch.zeros(D_in, D_out, device=device, dtype=dtype)\n",
    "\n",
    "alpha, rho, c = 1.0, 0.5, 0.5\n",
    "criterion_v = torch.ones(1, 1, device=device, dtype=dtype)\n",
    "\n",
    "while i < iteration and torch.max(loss) > tolerance and criterion_v:\n",
    "    i = i+1\n",
    "    # forward pass\n",
    "    scores = x_train.mm(theta_2)\n",
    "    # computing loss\n",
    "    h_1 = sigmoid(scores)\n",
    "    h_0 = 1 - h_1\n",
    "    log_likelyhood = log_likelyhood_mul_cal(h_1, y_train_expand)\n",
    "    loss = -log_likelyhood/N + 0.5*reg*torch.diag(torch.t(theta_2).mm(theta_2)).view(num_classes, 1)\n",
    "    print(\"Loss is \", loss.data.cpu().numpy().T)\n",
    "    \n",
    "    # optimization\n",
    "    grad_loss = torch.t(x_train).mm(h_1-y_train_expand)\n",
    "    hessian_loss = torch.zeros(D_in, D_in, num_classes, device=device, dtype=dtype)\n",
    "    dtheta_2 = torch.zeros(theta_2.size(), device=device, dtype=dtype)\n",
    "    for i in range(num_classes):\n",
    "        temp_diag = torch.diag(torch.flatten(h_0[:, i]*h_1[:, i]+tolerance))\n",
    "        hessian_loss[:, :, i] = torch.t(x_train).mm(temp_diag).mm(x_train)\n",
    "        temp = torch.inverse(hessian_loss[:, :, i]).mm(grad_loss[:, i].view(D_in, 1))\n",
    "        dtheta_2[:, i] = torch.flatten(torch.inverse(hessian_loss[:, :, i]).mm(grad_loss[:, i].view(D_in, 1)))\n",
    "    theta_2 -= step_size * dtheta_2 + reg*theta_2\n",
    "    \n",
    "    # backtracing line search related\n",
    "    pk = -dtheta_2\n",
    "    alpha = rho*alpha\n",
    "    criterion = (-log_likelyhood_mul_cal(x_train.mm(theta_2+alpha*pk), y_train_expand)/N \\\n",
    "                +log_likelyhood_mul_cal(h_1, y_train_expand)/N \\\n",
    "                -c*alpha*torch.diag(torch.t(grad_loss/N).mm(pk)).view(num_classes, 1))>0\n",
    "    criterion_v = torch.sum(criterion.int())\n",
    "    print(\"Criterion function value is: \", criterion_v.item())\n",
    "    \n",
    "print(\"\\nParameters theta_2 is:\\n\", theta_2.data.cpu().numpy())"
   ]
  },
  {
   "cell_type": "code",
   "execution_count": 16,
   "metadata": {},
   "outputs": [
    {
     "name": "stdout",
     "output_type": "stream",
     "text": [
      "Accuracy is  0.7661538461538462\n"
     ]
    }
   ],
   "source": [
    "accuracy = accuracy_mul_cal(x_test, theta_2, y_test_expand)\n",
    "print(\"Accuracy is \", accuracy.item())"
   ]
  },
  {
   "cell_type": "markdown",
   "metadata": {},
   "source": [
    "### Gradient descent"
   ]
  },
  {
   "cell_type": "code",
   "execution_count": 17,
   "metadata": {},
   "outputs": [
    {
     "name": "stdout",
     "output_type": "stream",
     "text": [
      "Parameters theta_2 is:\n",
      " [[ 6.886e-03  4.333e-02 -5.392e-02 -1.312e-02]\n",
      " [-2.779e-02 -3.033e-02  1.772e-02  1.717e-02]\n",
      " [-1.811e-02 -2.141e-02  3.214e-03  7.155e-03]\n",
      " [ 1.001e-03  2.196e-02 -1.689e-02 -1.622e-02]\n",
      " [-8.887e-03 -2.193e-02  6.484e-03  1.149e-02]\n",
      " [ 3.018e-03 -1.841e-02 -1.516e-03  7.108e-04]\n",
      " [-2.244e-02  1.759e-02  3.252e-02 -2.516e-02]\n",
      " [-3.031e-03 -1.274e-02 -2.303e-02  2.087e-02]\n",
      " [ 5.330e-03 -6.157e-03 -3.876e-02  1.656e-02]\n",
      " [ 3.130e-02 -5.583e-02  4.635e-02 -1.932e-02]\n",
      " [ 4.527e-02  2.492e-02 -2.107e-02 -3.092e-02]\n",
      " [ 5.044e-02  1.043e-02 -9.154e-03 -3.285e-02]\n",
      " [ 3.111e-02 -3.092e-02  1.271e-02 -1.534e-02]\n",
      " [ 1.752e-02  1.949e-02 -8.081e-03 -1.919e-02]\n",
      " [ 1.700e-02  1.229e-02 -1.693e-03 -1.886e-02]\n",
      " [ 4.777e-02 -2.613e-02 -3.602e-02  1.192e-03]\n",
      " [ 1.359e-02  1.021e-02  2.090e-02 -3.075e-02]\n",
      " [ 1.374e-02  1.312e-03  3.479e-02 -3.408e-02]\n",
      " [-1.019e-03 -2.109e-03  2.172e-03  5.650e-03]\n",
      " [ 5.284e-04  1.141e-03 -5.201e-04  4.290e-04]\n",
      " [ 5.961e-04 -1.099e-05  2.439e-04  1.982e-03]\n",
      " [ 3.163e-03 -3.907e-03  5.517e-04  6.071e-03]\n",
      " [ 3.641e-04 -1.579e-04  1.323e-04  5.015e-04]\n",
      " [ 9.589e-04 -8.099e-04 -1.216e-04  2.304e-03]\n",
      " [ 7.472e-04 -1.433e-03 -6.845e-04  5.909e-03]\n",
      " [ 6.239e-04  1.326e-03 -1.289e-03  4.383e-04]\n",
      " [ 9.351e-04  9.809e-04 -1.499e-03  1.116e-03]]\n"
     ]
    },
    {
     "data": {
      "image/png": "[encoded data removed]",
      "text/plain": [
       "<Figure size 864x288 with 2 Axes>"
      ]
     },
     "metadata": {
      "needs_background": "light"
     },
     "output_type": "display_data"
    }
   ],
   "source": [
    "i, step_size = 0, 5e-4\n",
    "decay_rate = 0.99\n",
    "loss = torch.ones(num_classes, device=device, dtype=dtype)\n",
    "theta_2 = torch.zeros(D_in, D_out, device=device, dtype=dtype)\n",
    "loss_array = []\n",
    "accuracy_array = []\n",
    "\n",
    "while i < iteration and (torch.max(loss) > tolerance or torch.sum(torch.isinf(loss).int())):\n",
    "    i = i+1\n",
    "    # forward pass\n",
    "    scores = x_train.mm(theta_2)\n",
    "    # computing loss\n",
    "    h_1 = sigmoid(scores)\n",
    "    h_0 = 1 - h_1\n",
    "    log_likelyhood = log_likelyhood_mul_cal(h_1, y_train_expand)\n",
    "    loss = -log_likelyhood/N + 0.5*reg*torch.diag(torch.t(theta_2).mm(theta_2)).view(num_classes, 1)\n",
    "    # print(\"Loss is \", loss.data.cpu().numpy().T)\n",
    "    \n",
    "    loss_array.append(torch.sum(torch.flatten(loss * (loss > tolerance))).data.cpu().numpy())\n",
    "    # accuracy on training data\n",
    "    accuracy = accuracy_mul_cal(x_train, theta_2, y_train_expand)\n",
    "    accuracy_array.append(torch.flatten(accuracy).data.cpu().numpy())\n",
    "    \n",
    "    # optimization\n",
    "    grad_loss = torch.t(x_train).mm(h_1-y_train_expand)\n",
    "    theta_2 -= step_size * grad_loss/N + reg*theta_2\n",
    "    step_size = step_size * decay_rate\n",
    "\n",
    "plot_loss_accuracy_bin(loss_array, accuracy_array)\n",
    "print(\"Parameters theta_2 is:\\n\", theta_2.data.cpu().numpy())"
   ]
  },
  {
   "cell_type": "code",
   "execution_count": 18,
   "metadata": {},
   "outputs": [
    {
     "name": "stdout",
     "output_type": "stream",
     "text": [
      "Accuracy is  0.7138461538461538\n"
     ]
    }
   ],
   "source": [
    "accuracy = accuracy_mul_cal(x_test, theta_2, y_test_expand)\n",
    "print(\"Accuracy is \", accuracy.item())"
   ]
  },
  {
   "cell_type": "markdown",
   "metadata": {},
   "source": [
    "### 5\n",
    "\n",
    "The gradient descent has less computation when updating the parameters, while some parameter, like the decay rate/learning rate should be selected carefully as it's likely that the results from gradient descent is ocsillating arount the optimal point and the step size should decrease during the iterations, or the loss may not converge at all."
   ]
  },
  {
   "cell_type": "markdown",
   "metadata": {},
   "source": [
    "### Stochastic gradient descent"
   ]
  },
  {
   "cell_type": "code",
   "execution_count": 19,
   "metadata": {},
   "outputs": [
    {
     "name": "stdout",
     "output_type": "stream",
     "text": [
      "Accuracy for batch size of  1  is  0.3230769230769231 \n",
      "\n",
      "Accuracy for batch size of  16  is  0.5107692307692308 \n",
      "\n",
      "Accuracy for batch size of  32  is  0.7476923076923077 \n",
      "\n",
      "Accuracy for batch size of  198  is  0.5723076923076923 \n",
      "\n"
     ]
    }
   ],
   "source": [
    "decay_rate = 0.95\n",
    "\n",
    "batch_sizes = [1, 16, 32, N]\n",
    "step_sizes = [1e-2, 1e-2, 1e-2, 6e-4]\n",
    "iterations = [50, 100, 100, 100]\n",
    "theta_s = torch.zeros(D_in, D_out, len(batch_sizes), device=device, dtype=dtype)\n",
    "\n",
    "y_test_expand = torch.zeros(y_test.size(0), num_classes, device=device, dtype=dtype)\n",
    "# print(y_test_expand.size())\n",
    "for i in range(num_classes):\n",
    "    temp = y_test == i+1\n",
    "    y_test_expand[:, i] = torch.flatten(temp.int())\n",
    "\n",
    "for k in range(len(batch_sizes)):\n",
    "    batch_size = batch_sizes[k]\n",
    "    step_size = step_sizes[k]\n",
    "    iteration = iterations[k]\n",
    "    loss = torch.ones(num_classes, device=device, dtype=dtype)\n",
    "    theta_2 = torch.zeros(D_in, D_out, device=device, dtype=dtype)\n",
    "    perm_seq = torch.randperm(N)\n",
    "    x_train_perm, y_train_expand_perm = x_train[perm_seq, :], y_train_expand[perm_seq, :]\n",
    "    \n",
    "    for j in range(int(np.ceil(N/batch_size))):\n",
    "        # print(\"j is \", j)\n",
    "        start_ind = batch_size*j\n",
    "        end_ind = np.minimum(N, start_ind+batch_size)\n",
    "        # print(\"end_ind is \",  end_ind)\n",
    "        x_batch = x_train_perm[start_ind:end_ind]\n",
    "        y_batch = y_train_expand_perm[start_ind:end_ind]\n",
    "        N_batch = end_ind - start_ind\n",
    "        \n",
    "        i = 0\n",
    "        while i < iteration and (torch.max(loss) > tolerance or torch.sum(torch.isinf(loss).int())):\n",
    "            i = i+1\n",
    "            step_size = step_size * decay_rate\n",
    "            # forward pass\n",
    "            scores = x_batch.mm(theta_2)\n",
    "            # computing loss\n",
    "            h_1 = sigmoid(scores)\n",
    "            h_0 = 1 - h_1\n",
    "            log_likelyhood = log_likelyhood_mul_cal(h_1, y_batch)\n",
    "            loss = -log_likelyhood/N + 0.5*reg*torch.diag(torch.t(theta_2).mm(theta_2)).view(num_classes, 1)\n",
    "            # print(\"Loss for batch size of \", batch_size, \" is: \", loss.data.cpu().numpy().T)            \n",
    "            # optimization\n",
    "            grad_loss = torch.t(x_batch).mm(h_1-y_batch)\n",
    "            theta_2 -= step_size * grad_loss/N + reg*theta_2\n",
    "    \n",
    "    theta_s[:, :, k] = theta_2\n",
    "    accuracy = accuracy_mul_cal(x_test, theta_2, y_test_expand)\n",
    "    print(\"Accuracy for batch size of \", batch_size, \" is \", accuracy.item(), \"\\n\")\n"
   ]
  },
  {
   "cell_type": "code",
   "execution_count": null,
   "metadata": {},
   "outputs": [],
   "source": []
  }
 ],
 "metadata": {
  "kernelspec": {
   "display_name": "Python [conda env:pytorch_gpu]",
   "language": "python",
   "name": "conda-env-pytorch_gpu-py"
  },
  "language_info": {
   "codemirror_mode": {
    "name": "ipython",
    "version": 3
   },
   "file_extension": ".py",
   "mimetype": "text/x-python",
   "name": "python",
   "nbconvert_exporter": "python",
   "pygments_lexer": "ipython3",
   "version": "3.7.9"
  }
 },
 "nbformat": 4,
 "nbformat_minor": 4
}
